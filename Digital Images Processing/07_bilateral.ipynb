{
 "cells": [
  {
   "cell_type": "markdown",
   "metadata": {
    "pycharm": {
     "name": "#%% md\n"
    }
   },
   "source": [
    "# Filtracja bilateralna"
   ]
  },
  {
   "cell_type": "markdown",
   "metadata": {
    "pycharm": {
     "name": "#%% md\n"
    }
   },
   "source": [
    "## Konwolucja obrazu z filtrem o zadanych współczynnikach\n",
    "\n",
    "Splot (konwolucję) obrazu wejściowego $I$ z filtrem $\\psi$ dla ustalonego punktu obrazu $\\mathbf{x}$ można przedstawić następująco:\n",
    "\n",
    "\\begin{equation}\n",
    "\\hat{I}(\\mathbf{x}) = \\frac{1}{W_N}\\sum_{\\mathbf{p} \\in \\eta(\\mathbf{x})} \\psi(||\\mathbf{p}-\\mathbf{x}||)I(\\mathbf{p})\n",
    "\\end{equation}\n",
    "\n",
    "gdzie:\n",
    "- $\\hat{I}$ jest obrazem wynikowym (przefiltrowanym),\n",
    "- $W_N = \\sum_y \\psi(y)$ jest parametrem normalizującym współczynniki filtra $\\psi$,\n",
    "- $||\\cdot||$ jest odległością między punktami obrazu $\\mathbf{x}$ i $\\mathbf{p}$ według ustalonej metryki (np. norma $L_2$). Uwaga, proszę pamiętać, że zarówno $\\mathbf{x}$, jak i $\\mathbf{p}$ to współrzędne przestrzenne,\n",
    "- $\\eta(\\mathbf{x})$ jest otoczeniem punktu $\\mathbf{x}$.\n",
    "\n",
    "Funkcja $\\psi$ decyduje o charakterze filtracji. Dla filtru Gaussowskiego:\n",
    "\n",
    "\\begin{equation}\n",
    "\\psi(y) = G_{\\delta_s}(y)\n",
    "\\end{equation}\n",
    "\n",
    "gdzie: $G_{\\delta_s}(y)$ jest funkcją Gaussa z parametrem skali $\\delta_s$.\n",
    "\n",
    "Opisaną powyżej filtrację realizowaliśmy w ramach ćwiczenia \"Przetwarzanie wstępne. Filtracja kontekstowa.\""
   ]
  },
  {
   "cell_type": "markdown",
   "metadata": {
    "pycharm": {
     "name": "#%% md\n"
    }
   },
   "source": [
    "## Filtracja bilateralna\n",
    "\n",
    "Wadą klasycznego splotu jest brak adaptacji współczynników filtra do lokalnego otoczenia $\\eta(\\mathbf{x})$ filtrowanego punktu $\\mathbf{x}$.\n",
    "Oznacza to wykorzystanie tych samych współczynników filtra $\\psi$ niezależnie od tego czy otoczenie jest względnie jednorodne lub zawiera krawędzie obiektów (w tym przypadku dochodzi do \"rozmywania\" krawędzi).\n",
    "Filtracja bilateralna uwzględnia lokalne otoczenie filtrowanego punktu, w ten sposób, że parametry filtra zmieniają się w zależności od \"wyglądu\" otocznia.\n",
    "\n",
    "\n",
    "Współczynniki filtra obliczane są na podstawie odległości filtrowanego punktu $\\mathbf{x}$ od każdego punktu otoczenia $\\mathbf{p}$ w dziedzinie przestrzennej obrazu (tak jak przy typowym filtrze np. Gaussa) oraz odległości punktów w przeciwdziedzinie obrazu (np. na podstawie różnicy w jasności pikseli dla obrazu w odcieniach szarości):\n",
    "\n",
    "\\begin{equation}\n",
    "\\hat{I}(\\mathbf{x}) = \\frac{1}{W_N}\\sum_{\\mathbf{p} \\in \\eta(\\mathbf{x})} \\psi(||\\mathbf{p}-\\mathbf{x}||) \\gamma(|I(\\mathbf{p}) - I(\\mathbf{x})|) I(\\mathbf{p})\n",
    "\\end{equation}\n",
    "gdzie:\n",
    "- $W_N$ jest współczynnikiem normalizującym filtr,\n",
    "- $\\gamma$ jest funkcją odległości w przeciwdziedzinie obrazu, np. $\\gamma(y)=\\exp(-\\frac{y^2}{2\\delta_r^2})$\n",
    "- parametr $\\delta_r$ jest utożsamiany z poziomem szumu w obrazie i należy go dobrać w sposób empiryczny.\n",
    "\n",
    "Proszę chwilę zastanowić się nad powyższym równaniem, w szczególności nad funkcją $\\gamma$. Proszę wyznaczyć, jaka będzie wartość funkcji dla pikseli podobnych (różnica 0, 1, 2), a skrajnie różnych (255, 200).\n",
    "\n",
    "##  Realizacja ćwiczenia\n",
    "\n",
    "### Wczytanie danych\n",
    "\n",
    "1. Wczytaj dane z pliku *MR_data.mat*. W tym celu wykorzystaj funkcję `loadmat` z pakietu scipy:\n",
    "        from scipy.io import loadmat\n",
    "        mat = loadmat('MR_data.mat')\n",
    "\n",
    "2. Wczytany plik zawiera 5 obrazów: *I_noisefree*, *I_noisy1*, *I_noisy2*, *I_noisy3* oraz *I_noisy4*. Odczytać je można w następujący sposób:\n",
    "        Input = mat['I_noisy1']\n",
    "\n",
    "3.Wyświetl wybrany obraz z pliku *MR_data.mat*. Zagadka - co to za obrazowanie medyczne?"
   ]
  },
  {
   "cell_type": "code",
   "execution_count": null,
   "metadata": {
    "pycharm": {
     "name": "#%% Zadanie 1 - wyświetlanie\n"
    }
   },
   "outputs": [],
   "source": [
    "from matplotlib import pyplot as plt\n",
    "import numpy as np\n",
    "from scipy.io import loadmat\n",
    "import math\n",
    "import os\n",
    "\n",
    "if not os.path.exists(\"MR_data.mat\") :\n",
    "    !wget https://raw.githubusercontent.com/vision-agh/poc_sw/master/07_Bilateral/MR_data.mat --no-check-certificate\n",
    "\n",
    "#TODO Samodzielna\n",
    "mat = loadmat('MR_data.mat')\n",
    "Input = mat['I_noisefree']\n",
    "\n",
    "plt.imshow(Input, cmap=\"gray\")\n",
    "plt.xticks([]), plt.yticks([])\n",
    "plt.show()"
   ]
  },
  {
   "cell_type": "markdown",
   "metadata": {
    "pycharm": {
     "name": "#%% md\n"
    }
   },
   "source": [
    "### \"Klasyczna\" konwolucja\n",
    "\n",
    "1. Zdefiniuj parametry filtra Gaussowskiego: rozmiar okna i wariancję $\\delta_S$.\n",
    "2. Oblicz współczynniki filtra na podstawie zdefiniowanych parametrów (najprościej w ramach podwójnej pętli for).\n",
    "2. Sprawdź ich poprawność i zwizualizuj filtr (tak jak w ćwiczeniu pt. \"Przetwarzanie wstępne. Filtracja kontekstowa.\").\n",
    "3. Wykonaj kopię obrazu wejściowego: `IConv = Input.copy()`\n",
    "4. Wykonaj podwójną pętlę po obrazie. Pomiń ramkę, dla której nie jest zdefiniowany kontekst o wybranej wielkości.\n",
    "5. W każdej iteracji stwórz dwuwymiarową tablicę zawierającą aktualny kontekst.\n",
    "6. Napisz funkcję, która będzie obliczała nową wartość piksela.\n",
    "Argumentem tej funkcji są aktualnie przetwarzane okno i współczynniki filtra.\n",
    "7. Obliczoną wartość przypisz do odpowiedniego piksela kopii obrazu wejściowego.\n",
    "8. Wyświetl wynik filtracji.\n",
    "9. Porównaj wynik z obrazem oryginalnym."
   ]
  },
  {
   "cell_type": "code",
   "execution_count": null,
   "metadata": {
    "pycharm": {
     "name": "#%% Zadanie 2 - konwolucja\n"
    }
   },
   "outputs": [],
   "source": [
    "#TODO Samodzielna\n",
    "def fgaussian(size, sigma):\n",
    "     m = n = size\n",
    "     h, k = m//2, n//2\n",
    "     x, y = np.mgrid[-h:h+1, -k:k+1]\n",
    "     g = np.exp(-(x**2 + y**2)/(2*sigma**2))\n",
    "     return g /g.sum()\n",
    "    \n",
    "def fgaussian2(size, sigma):\n",
    "    kernel = np.zeros([size,size])\n",
    "    x = size//2\n",
    "    for i in range(size):\n",
    "        for j in range(size):\n",
    "            kernel[i, j] =  np.exp(-(pow(x-i,2) + pow(x-j,2))/(2*pow(sigma,2)))\n",
    "    kernel = kernel / kernel.sum()\n",
    "    return kernel\n",
    "            \n",
    "\n",
    "def mesh(fun, size):\n",
    "    fig = plt.figure()\n",
    "    ax = fig.gca(projection='3d')\n",
    "    \n",
    "    X = np.arange(-size//2, size//2, 1)\n",
    "    Y = np.arange(-size//2, size//2, 1)\n",
    "    X, Y = np.meshgrid(X, Y)\n",
    "    Z = fun\n",
    "    ax.plot_surface(X, Y, Z)\n",
    "    plt.show()\n",
    "    \n",
    "\n",
    "#Porównanie fgaussian\n",
    "kernel1 = fgaussian(5,0.9)\n",
    "kernel2 = fgaussian2(5,0.9)\n",
    "mesh(kernel1, 5)\n",
    "mesh(kernel2, 5)\n",
    "\n",
    "def process(context, kernel):\n",
    "    size = kernel.shape[0]\n",
    "    counter = 0\n",
    "    weights = 0\n",
    "    for i in range(size):\n",
    "        for j in range(size):\n",
    "            counter += context[i,j]*kernel[i,j]\n",
    "            weights += kernel[i,j]\n",
    "    return counter / weights\n",
    "\n",
    "# Liczy się dłuższą chwilę \n",
    "def convolution(Img, kernel):\n",
    "    k_size = kernel.shape[0]\n",
    "    margin = k_size//2\n",
    "    IConv = Img.copy()\n",
    "    for i in range(margin,Img.shape[0]-margin):\n",
    "        for j in range(margin,Img.shape[1]-margin):\n",
    "            context = np.zeros([k_size,k_size])\n",
    "            for c_i in range(-margin,margin+1):\n",
    "                for c_j in range(-margin+1,margin+1):\n",
    "                    context[c_i+margin,c_j+margin] = Img[i+c_i,j+c_j]\n",
    "                    IConv[i,j] = process(context,kernel)\n",
    "    return IConv\n",
    "\n",
    "def convolution_filter(Img, kernel_size, sigma):\n",
    "    return convolution(Img, fgaussian2(kernel_size, sigma))\n",
    "            \n",
    "IConv = convolution_filter(Input, 5, 0.9)\n",
    "\n",
    "fig, axs = plt.subplots(1,2, figsize=(15,15))\n",
    "\n",
    "axs[0].set_title(\"Oryginał\")\n",
    "axs[0].imshow(Input, 'gray')\n",
    "axs[0].axis('off')\n",
    "\n",
    "axs[1].set_title(\"Filtrowany\")\n",
    "axs[1].imshow(IConv, 'gray')\n",
    "axs[1].axis('off')\n",
    "\n",
    "plt.show()"
   ]
  },
  {
   "cell_type": "markdown",
   "metadata": {
    "pycharm": {
     "name": "#%% md\n"
    }
   },
   "source": [
    "### Filtracja bilateralna\n",
    "\n",
    "1. Zdefiniuj dodatkowy parametr: wariancję $\\delta_R$.\n",
    "3. Wykonaj kopię obrazu wejściowego: `IBilateral = Input.copy()`\n",
    "4. Wykonaj podwójną pętlę po obrazie. Pomiń ramkę, dla której nie jest zdefiniowany kontekst o wybranej wielkości.\n",
    "5. W każdej iteracji stwórz dwuwymiarową tablicę zawierającą aktualny kontekst.\n",
    "6. Napisz funkcję, która będzie obliczała nową wartość piksela.\n",
    "Argumentami funkcji są aktualnie przetwarzane okno, współczynniki filtra gausowskiego (takie same jak wcześniej) i wariancja $\\delta_R$.\n",
    "7. Oblicz odległość w przeciwdziedzinie (dla wartości pikseli).\n",
    "8. Oblicz funkcję Gaussa dla obliczonych odległości z zadanym parametrem.\n",
    "9. Wykonaj normalizację obliczonych współczynników.\n",
    "10. Obliczoną wartość przypisz do odpowiedniego piksela kopii obrazu wejściowego.\n",
    "11. Wyświetl wynik filtracji.\n",
    "12. Porównaj wynik z obrazem oryginalnym."
   ]
  },
  {
   "cell_type": "code",
   "execution_count": null,
   "metadata": {
    "pycharm": {
     "name": "#%%\n"
    }
   },
   "outputs": [],
   "source": [
    "def process_bi(context, kernel, sigma):\n",
    "    size = kernel.shape[0]\n",
    "    mid = size//2\n",
    "    c_mid = context[mid,mid]\n",
    "    counter = 0\n",
    "    weights = 0\n",
    "    new_cont = np.zeros(context.shape)\n",
    "    \n",
    "    for i in range(size):\n",
    "        for j in range(size):\n",
    "            new_cont[i, j] =  np.exp(-(pow(c_mid-context[i,j],2))/(2*pow(sigma,2)))\n",
    "    \n",
    "    for i in range(size):\n",
    "        for j in range(size):\n",
    "            counter += context[i,j]*kernel[i,j]*new_cont[i,j]\n",
    "            weights += kernel[i,j]*new_cont[i,j]\n",
    "    return counter / weights\n",
    "\n",
    "# Liczy się dłuższą chwilę \n",
    "def bilateral(Img, kernel,sigma):\n",
    "    k_size = kernel.shape[0]\n",
    "    margin = k_size//2\n",
    "    IBilateral = Img.copy()\n",
    "    for i in range(margin,Img.shape[0]-margin):\n",
    "        for j in range(margin,Img.shape[1]-margin):\n",
    "            context = np.zeros([k_size,k_size])\n",
    "            for c_i in range(-margin,margin+1):\n",
    "                for c_j in range(-margin+1,margin+1):\n",
    "                    context[c_i+margin,c_j+margin] = Img[i+c_i,j+c_j]\n",
    "                    IBilateral[i,j] = process_bi(context,kernel,sigma)\n",
    "    return IBilateral\n",
    "\n",
    "def bilateral_filter(Img, kernel_size, sigma, sigma_r):\n",
    "    return bilateral(Img, fgaussian2(kernel_size, sigma), sigma_r)\n",
    "\n",
    "IBilateral = bilateral_filter(Input, 5, 0.7, 0.5)\n",
    "\n",
    "fig, axs = plt.subplots(1,2, figsize=(15,15))\n",
    "\n",
    "axs[0].set_title(\"Oryginał\")\n",
    "axs[0].imshow(Input, 'gray')    \n",
    "axs[0].axis('off')\n",
    "\n",
    "axs[1].set_title(\"Bi Filtrowany\")\n",
    "axs[1].imshow(IBilateral, 'gray')\n",
    "axs[1].axis('off')\n",
    "\n",
    "plt.show()"
   ]
  },
  {
   "cell_type": "code",
   "execution_count": null,
   "metadata": {},
   "outputs": [],
   "source": []
  }
 ],
 "metadata": {
  "kernelspec": {
   "display_name": "Python 3",
   "language": "python",
   "name": "python3"
  },
  "language_info": {
   "codemirror_mode": {
    "name": "ipython",
    "version": 3
   },
   "file_extension": ".py",
   "mimetype": "text/x-python",
   "name": "python",
   "nbconvert_exporter": "python",
   "pygments_lexer": "ipython3",
   "version": "3.7.3"
  }
 },
 "nbformat": 4,
 "nbformat_minor": 4
}